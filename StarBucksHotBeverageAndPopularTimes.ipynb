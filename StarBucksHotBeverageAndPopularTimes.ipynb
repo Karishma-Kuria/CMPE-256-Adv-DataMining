{
  "nbformat": 4,
  "nbformat_minor": 0,
  "metadata": {
    "colab": {
      "name": "StarBucksHotBeverageAndPopularTimes.ipynb",
      "provenance": [],
      "collapsed_sections": [],
      "authorship_tag": "ABX9TyOe9uXNjilw0Hmz3ig8XioE",
      "include_colab_link": true
    },
    "kernelspec": {
      "name": "python3",
      "display_name": "Python 3"
    },
    "language_info": {
      "name": "python"
    }
  },
  "cells": [
    {
      "cell_type": "markdown",
      "metadata": {
        "id": "view-in-github",
        "colab_type": "text"
      },
      "source": [
        "<a href=\"https://colab.research.google.com/github/Karishma-Kuria/CMPE-256-Adv-DataMining/blob/main/StarBucksHotBeverageAndPopularTimes.ipynb\" target=\"_parent\"><img src=\"https://colab.research.google.com/assets/colab-badge.svg\" alt=\"Open In Colab\"/></a>"
      ]
    },
    {
      "cell_type": "markdown",
      "metadata": {
        "id": "-j_SkMGvY0OI"
      },
      "source": [
        "# **Plotting the graph for popular time in x-axis and type of beverage in Y-axis.**"
      ]
    },
    {
      "cell_type": "code",
      "metadata": {
        "colab": {
          "base_uri": "https://localhost:8080/",
          "height": 553
        },
        "id": "HDiHP-vyYyQo",
        "outputId": "0532e5c6-faa9-4f29-9820-1df56aa8b7ea"
      },
      "source": [
        "import numpy as np\n",
        "import pandas as pd\n",
        "import matplotlib.pyplot as plt\n",
        "# created array of the points given\n",
        "X = np.array([[1,5],\n",
        "               [1,7],\n",
        "               [2,6],\n",
        "               [2,9],\n",
        "               [3,3],\n",
        "               [3,6],\n",
        "               [3,8],\n",
        "               [3,9],\n",
        "               [4,5],\n",
        "               [4,8],\n",
        "               [5,4],\n",
        "               [5,7],\n",
        "               [6,9],\n",
        "               [7,2],\n",
        "               [7,3],\n",
        "               [7,9],\n",
        "               [8,1],\n",
        "               [8,7],])\n",
        "labels = range(1,19)\n",
        "plt.figure(figsize=(10,9))\n",
        "plt.subplots_adjust(bottom=0.1)\n",
        "plt.scatter(X[:,0],X[:,1], label='True Position')\n",
        "\n",
        "# added labels to all the points in the graph\n",
        "for label, x,y in zip(labels, X[:,0], X[:,1]):\n",
        "  plt.annotate(\n",
        "      label,\n",
        "      xy=(x,y), xytext=(0,10),\n",
        "      textcoords='offset points', ha='right', va = 'bottom')\n",
        "plt.show()"
      ],
      "execution_count": 16,
      "outputs": [
        {
          "output_type": "display_data",
          "data": {
            "image/png": "[encoded data removed]",
            "text/plain": [
              "<Figure size 720x648 with 1 Axes>"
            ]
          },
          "metadata": {
            "needs_background": "light"
          }
        }
      ]
    },
    {
      "cell_type": "markdown",
      "metadata": {
        "id": "5bA0WOcggDkz"
      },
      "source": [
        "Created Generic function for plotting dendogram."
      ]
    },
    {
      "cell_type": "code",
      "metadata": {
        "id": "Rh06U_pvf8By"
      },
      "source": [
        "from scipy.cluster.hierarchy import dendrogram, linkage\n",
        "from sklearn.cluster import AgglomerativeClustering\n",
        "\n",
        "labelRange = range(1,19)\n",
        "# generic function to plot dendogram for all the 3 models\n",
        "def plot_dendograms(model):\n",
        "  linked = linkage(X, model)\n",
        "  labelList = range(1,19)\n",
        "  plt.figure(figsize=(10,9))\n",
        "  dendrogram(linked,orientation='top', \n",
        "           labels=labelList,\n",
        "           distance_sort = 'descending',\n",
        "           show_leaf_counts= True)\n",
        "  plt.show()"
      ],
      "execution_count": 17,
      "outputs": []
    },
    {
      "cell_type": "markdown",
      "metadata": {
        "id": "DBlAxmBRgwMH"
      },
      "source": [
        "## **Single Link Clustering**"
      ]
    },
    {
      "cell_type": "code",
      "metadata": {
        "colab": {
          "base_uri": "https://localhost:8080/",
          "height": 334
        },
        "id": "wShIac9pgw_x",
        "outputId": "2ce6c175-2b37-4c81-e30f-fe7c8b247158"
      },
      "source": [
        "print(\"Single link Cluster \\n\")\n",
        "singleLinkModel = AgglomerativeClustering(n_clusters=3, affinity='euclidean',\n",
        "                                          linkage='single')\n",
        "singleLinkModel = singleLinkModel.fit_predict(X)\n",
        "print(singleLinkModel)\n",
        "plt.scatter(X[:,0],X[:,1], c=singleLinkModel, cmap = 'rainbow')"
      ],
      "execution_count": 18,
      "outputs": [
        {
          "output_type": "stream",
          "name": "stdout",
          "text": [
            "Single link Cluster \n",
            "\n",
            "[0 0 0 0 0 0 0 0 0 0 0 0 0 2 2 0 2 1]\n"
          ]
        },
        {
          "output_type": "execute_result",
          "data": {
            "text/plain": [
              "<matplotlib.collections.PathCollection at 0x7f369dcd9050>"
            ]
          },
          "metadata": {},
          "execution_count": 18
        },
        {
          "output_type": "display_data",
          "data": {
            "image/png": "[encoded data removed]",
            "text/plain": [
              "<Figure size 432x288 with 1 Axes>"
            ]
          },
          "metadata": {
            "needs_background": "light"
          }
        }
      ]
    },
    {
      "cell_type": "markdown",
      "metadata": {
        "id": "m9A1HYWChT5Z"
      },
      "source": [
        "## **Dendogram**"
      ]
    },
    {
      "cell_type": "code",
      "metadata": {
        "colab": {
          "base_uri": "https://localhost:8080/",
          "height": 540
        },
        "id": "qG_58EZsh2XR",
        "outputId": "bda9d52f-d313-4d25-faa2-e714f7507477"
      },
      "source": [
        "# plotted dendogram\n",
        "plot_dendograms('single')"
      ],
      "execution_count": 19,
      "outputs": [
        {
          "output_type": "display_data",
          "data": {
            "image/png": "[encoded data removed]",
            "text/plain": [
              "<Figure size 720x648 with 1 Axes>"
            ]
          },
          "metadata": {
            "needs_background": "light"
          }
        }
      ]
    },
    {
      "cell_type": "markdown",
      "metadata": {
        "id": "EY3cqwx3iSRh"
      },
      "source": [
        "# **Average Link Clustering**"
      ]
    },
    {
      "cell_type": "code",
      "metadata": {
        "colab": {
          "base_uri": "https://localhost:8080/",
          "height": 334
        },
        "id": "r1CBGiPSiell",
        "outputId": "e58b84f8-cf99-44ea-a120-e02aba7ccc1d"
      },
      "source": [
        "print(\"Average link Cluster \\n\")\n",
        "averageLinkModel = AgglomerativeClustering(n_clusters=3, affinity='euclidean',\n",
        "                                          linkage='average')\n",
        "averageLinkModel = averageLinkModel.fit_predict(X)\n",
        "print(averageLinkModel)\n",
        "plt.scatter(X[:,0],X[:,1], c=averageLinkModel, cmap = 'rainbow')"
      ],
      "execution_count": 20,
      "outputs": [
        {
          "output_type": "stream",
          "name": "stdout",
          "text": [
            "Average link Cluster \n",
            "\n",
            "[0 0 0 0 0 0 0 0 0 0 0 0 2 1 1 2 1 2]\n"
          ]
        },
        {
          "output_type": "execute_result",
          "data": {
            "text/plain": [
              "<matplotlib.collections.PathCollection at 0x7f369db74c50>"
            ]
          },
          "metadata": {},
          "execution_count": 20
        },
        {
          "output_type": "display_data",
          "data": {
            "image/png": "[encoded data removed]",
            "text/plain": [
              "<Figure size 432x288 with 1 Axes>"
            ]
          },
          "metadata": {
            "needs_background": "light"
          }
        }
      ]
    },
    {
      "cell_type": "markdown",
      "metadata": {
        "id": "dbTYWoemip76"
      },
      "source": [
        "# Dendogram"
      ]
    },
    {
      "cell_type": "code",
      "metadata": {
        "colab": {
          "base_uri": "https://localhost:8080/",
          "height": 540
        },
        "id": "FLznB8IxjBjp",
        "outputId": "900fec01-d87a-4658-fd94-64b52b28cf5f"
      },
      "source": [
        "# plotted dendogram\n",
        "plot_dendograms('average')"
      ],
      "execution_count": 21,
      "outputs": [
        {
          "output_type": "display_data",
          "data": {
            "image/png": "[encoded data removed]",
            "text/plain": [
              "<Figure size 720x648 with 1 Axes>"
            ]
          },
          "metadata": {
            "needs_background": "light"
          }
        }
      ]
    },
    {
      "cell_type": "markdown",
      "metadata": {
        "id": "1UEtGxQkjECI"
      },
      "source": [
        "# **Complete Link Clustering**"
      ]
    },
    {
      "cell_type": "code",
      "metadata": {
        "colab": {
          "base_uri": "https://localhost:8080/",
          "height": 334
        },
        "id": "JqAP4erkjJLG",
        "outputId": "81a07cdc-9b81-4bdc-fa3b-a4cea02dbf63"
      },
      "source": [
        "print(\"Complete link Cluster \\n\")\n",
        "completeLinkModel = AgglomerativeClustering(n_clusters=3, affinity='euclidean',\n",
        "                                          linkage='complete')\n",
        "completeLinkModel = completeLinkModel.fit_predict(X)\n",
        "print(completeLinkModel)\n",
        "plt.scatter(X[:,0],X[:,1], c=completeLinkModel, cmap = 'rainbow')"
      ],
      "execution_count": 22,
      "outputs": [
        {
          "output_type": "stream",
          "name": "stdout",
          "text": [
            "Complete link Cluster \n",
            "\n",
            "[1 1 1 1 0 1 1 1 0 1 0 2 2 0 0 2 0 2]\n"
          ]
        },
        {
          "output_type": "execute_result",
          "data": {
            "text/plain": [
              "<matplotlib.collections.PathCollection at 0x7f369dbb0a90>"
            ]
          },
          "metadata": {},
          "execution_count": 22
        },
        {
          "output_type": "display_data",
          "data": {
            "image/png": "[encoded data removed]",
            "text/plain": [
              "<Figure size 432x288 with 1 Axes>"
            ]
          },
          "metadata": {
            "needs_background": "light"
          }
        }
      ]
    },
    {
      "cell_type": "markdown",
      "metadata": {
        "id": "zRmhk2OBjN9S"
      },
      "source": [
        "## **Dendogram**"
      ]
    },
    {
      "cell_type": "code",
      "metadata": {
        "colab": {
          "base_uri": "https://localhost:8080/",
          "height": 540
        },
        "id": "-CuRATYDjR50",
        "outputId": "dc2cbe1a-244b-4239-ba32-d41e0fa203f0"
      },
      "source": [
        "# plotted dendogram\n",
        "plot_dendograms('complete')"
      ],
      "execution_count": 23,
      "outputs": [
        {
          "output_type": "display_data",
          "data": {
            "image/png": "[encoded data removed]",
            "text/plain": [
              "<Figure size 720x648 with 1 Axes>"
            ]
          },
          "metadata": {
            "needs_background": "light"
          }
        }
      ]
    }
  ]
}